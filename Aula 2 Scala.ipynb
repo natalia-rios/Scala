{
 "cells": [
  {
   "cell_type": "markdown",
   "metadata": {},
   "source": [
    "## Objetos\n",
    "\n",
    "Um objeto é uma estrutura que carrega consigo informações (atributos) e comportamentos (métodos). Objetos são únicos e não podem ser sobrescritos.\n",
    "\n",
    "Podemos escrever um objeto em Scala como um código qualquer.\n",
    "\n",
    "Nesse código, as variáveis e os valores são atributos, e as funções são métodos.\n",
    "\n",
    "Para definir um objeto em Scala basta utilizar a seguinte sintaxe:"
   ]
  },
  {
   "cell_type": "code",
   "execution_count": 66,
   "metadata": {},
   "outputs": [
    {
     "name": "stdout",
     "output_type": "stream",
     "text": [
      "10\n"
     ]
    },
    {
     "data": {
      "text/plain": [
       "defined \u001b[32mobject\u001b[39m \u001b[36mContador\u001b[39m"
      ]
     },
     "execution_count": 66,
     "metadata": {},
     "output_type": "execute_result"
    }
   ],
   "source": [
    "object Contador{ \n",
    "\n",
    "    var numero = 10\n",
    "    \n",
    "    def valor = numero\n",
    "\n",
    "    def tick{\n",
    "        numero -= 1\n",
    "    }\n",
    "\n",
    "    def reset = {\n",
    "        \n",
    "        numero = 10\n",
    "    }\n",
    "\n",
    "}\n",
    "\n",
    "println(Contador.valor)"
   ]
  },
  {
   "cell_type": "code",
   "execution_count": 6,
   "metadata": {},
   "outputs": [
    {
     "name": "stdout",
     "output_type": "stream",
     "text": [
      "9\n"
     ]
    }
   ],
   "source": [
    "Contador.tick\n",
    "println(Contador.valor)"
   ]
  },
  {
   "cell_type": "code",
   "execution_count": 7,
   "metadata": {},
   "outputs": [
    {
     "name": "stdout",
     "output_type": "stream",
     "text": [
      "8\n"
     ]
    }
   ],
   "source": [
    "Contador.tick\n",
    "println(Contador.valor)"
   ]
  },
  {
   "cell_type": "code",
   "execution_count": 8,
   "metadata": {},
   "outputs": [
    {
     "name": "stdout",
     "output_type": "stream",
     "text": [
      "10\n"
     ]
    }
   ],
   "source": [
    "Contador.reset\n",
    "println(Contador.valor)"
   ]
  },
  {
   "cell_type": "markdown",
   "metadata": {},
   "source": [
    "## Classes\n",
    "\n",
    "Grupos de objetos com os <b>mesmos atributos</b> e os <b>mesmos comportamentos</b> pertencem à mesma classe. \n",
    "\n",
    "Diferente de um objeto, uma classe <b>precisa</b> ser atribuída a um valor ou variável.\n",
    "\n",
    "Criar uma classe em Scala é bastante similar à criação de classes em Java:"
   ]
  },
  {
   "cell_type": "code",
   "execution_count": 9,
   "metadata": {},
   "outputs": [
    {
     "data": {
      "text/plain": [
       "defined \u001b[32mclass\u001b[39m \u001b[36mPessoa\u001b[39m"
      ]
     },
     "execution_count": 9,
     "metadata": {},
     "output_type": "execute_result"
    }
   ],
   "source": [
    "class Pessoa {\n",
    "    var nome: String = null\n",
    "    var cpf: String = null\n",
    "}"
   ]
  },
  {
   "cell_type": "markdown",
   "metadata": {},
   "source": [
    "Para <b>instanciar</b> um objeto da classe Pessoa, basta utilizar a mesma sintaxe do Java: <b>new</b> <b>NomeDaClasse</b>. Por padrão, todos os atributos definidos dentro da classe são públicos e podem ser acessados direto pelo nome."
   ]
  },
  {
   "cell_type": "markdown",
   "metadata": {},
   "source": [
    "<b>OBS:</b> Os atributos definidos como <b>val</b> são apenas para leitura, enquanto os definidos como <b>var</b> podem ser atualizados."
   ]
  },
  {
   "cell_type": "code",
   "execution_count": 10,
   "metadata": {},
   "outputs": [
    {
     "name": "stdout",
     "output_type": "stream",
     "text": [
      "Mario\n",
      "060.000.000-00\n"
     ]
    },
    {
     "data": {
      "text/plain": [
       "\u001b[36mmario\u001b[39m: \u001b[32mPessoa\u001b[39m = $sess.cmd8Wrapper$Helper$Pessoa@12aac6da"
      ]
     },
     "execution_count": 10,
     "metadata": {},
     "output_type": "execute_result"
    }
   ],
   "source": [
    "val mario = new Pessoa\n",
    "\n",
    "mario.nome = \"Mario\"\n",
    "\n",
    "mario.cpf = \"060.000.000-00\"\n",
    "\n",
    "println(mario.nome)\n",
    "println(mario.cpf)"
   ]
  },
  {
   "cell_type": "markdown",
   "metadata": {},
   "source": [
    "Existem um conjunto de métodos chamados de <b>construtores</b> que podem ser utilizados para definir valores iniciais aos atributos. Em Scala, as classes possuem um construtor principal que é definido no momento da criação da classe. O construto abaixo define os valores iniciais de <i>nome</i> e <i>CPF</i>:"
   ]
  },
  {
   "cell_type": "code",
   "execution_count": 11,
   "metadata": {},
   "outputs": [
    {
     "data": {
      "text/plain": [
       "defined \u001b[32mclass\u001b[39m \u001b[36mPessoa\u001b[39m\n",
       "\u001b[36mmario\u001b[39m: \u001b[32mwrapper\u001b[39m.\u001b[32mwrapper\u001b[39m.\u001b[32mPessoa\u001b[39m = $sess.cmd10Wrapper$Helper$Pessoa@590b2c04"
      ]
     },
     "execution_count": 11,
     "metadata": {},
     "output_type": "execute_result"
    }
   ],
   "source": [
    "class Pessoa(nome: String, cpf: String)\n",
    "\n",
    "val mario = new Pessoa(\"Mário\",\"060.000.000-00\")"
   ]
  },
  {
   "cell_type": "markdown",
   "metadata": {},
   "source": [
    "Diferente dos atributos definidos dentro da classe, os definidos no construtor principal são <b>privados</b>, ou seja, são visíveis apenas dentro do escopo do código da classe. Para serem acessados, é necessário criar métodos para isso. A definição de métodos é igual à definição de funções."
   ]
  },
  {
   "cell_type": "code",
   "execution_count": 13,
   "metadata": {},
   "outputs": [
    {
     "data": {
      "text/plain": [
       "defined \u001b[32mclass\u001b[39m \u001b[36mPessoa\u001b[39m\n",
       "\u001b[36mmario\u001b[39m: \u001b[32mwrapper\u001b[39m.\u001b[32mwrapper\u001b[39m.\u001b[32mPessoa\u001b[39m = $sess.cmd12Wrapper$Helper$Pessoa@3a9ea54b"
      ]
     },
     "execution_count": 13,
     "metadata": {},
     "output_type": "execute_result"
    }
   ],
   "source": [
    "class Pessoa(nome:String,cpf:String){\n",
    "    def getNome = nome\n",
    "    def getCPF = cpf\n",
    "    \n",
    "}\n",
    "\n",
    "val mario = new Pessoa(\"Mário\",\"060.000.000-00\")"
   ]
  },
  {
   "cell_type": "code",
   "execution_count": 14,
   "metadata": {},
   "outputs": [
    {
     "name": "stdout",
     "output_type": "stream",
     "text": [
      "Mário\n",
      "060.000.000-00\n"
     ]
    }
   ],
   "source": [
    "// Em métodos e funções que não recebem parâmetros, não é necessário utilizar parênteses\n",
    "\n",
    "println(mario.getNome)\n",
    "println(mario.getCPF)"
   ]
  },
  {
   "cell_type": "markdown",
   "metadata": {},
   "source": [
    "Para definirmos mais de um construtor em Scala, é necessário que haja um <i>mapeamento</i> entre o novo construtor e o construtor principal. Por exemplo, nem toda pessoa tem CPF, portanto devemos poder instanciar um objeto da classe Pessoa sem informar o valor do CPF. Parai sso, precisamos criar um novo construtor, o qual não recebe o CPF, que utilize o construtor principal da classe.\n",
    "\n",
    "Nesse exemplo, definiremos que uma pessoa que não possui CPF vai ter, no atributo CPF, o valor <i>\"Não cadastrado:</i>"
   ]
  },
  {
   "cell_type": "code",
   "execution_count": 15,
   "metadata": {},
   "outputs": [
    {
     "name": "stdout",
     "output_type": "stream",
     "text": [
      "Mário\n",
      "Não cadastrado\n"
     ]
    },
    {
     "data": {
      "text/plain": [
       "defined \u001b[32mclass\u001b[39m \u001b[36mPessoa\u001b[39m\n",
       "\u001b[36mmario\u001b[39m: \u001b[32mwrapper\u001b[39m.\u001b[32mwrapper\u001b[39m.\u001b[32mPessoa\u001b[39m = $sess.cmd14Wrapper$Helper$Pessoa@4c473b6f"
      ]
     },
     "execution_count": 15,
     "metadata": {},
     "output_type": "execute_result"
    }
   ],
   "source": [
    "class Pessoa(nome: String, cpf: String) {\n",
    "    \n",
    "    //O novo construtor precisa fazer uma chamada ao construtor principal\n",
    "    \n",
    "    def this(nome: String) = this(nome,\"Não cadastrado\")\n",
    "    \n",
    "    def getNome = nome\n",
    "    def getCPF = cpf\n",
    "    \n",
    "}\n",
    "\n",
    "val mario = new Pessoa(\"Mário\")\n",
    "\n",
    "println(mario.getNome)\n",
    "println(mario.getCPF)"
   ]
  },
  {
   "cell_type": "markdown",
   "metadata": {},
   "source": [
    "<b>OBS:</b> nos atributos e nos métodos, podemos utilizaar os seguintes <b>modificadores</b>:"
   ]
  },
  {
   "cell_type": "markdown",
   "metadata": {},
   "source": [
    "<b>1. private - </b> pode ser acessado apenas dentro do código da classe\n",
    "\n",
    "<b>2. public - </b> pode ser acessado de qualquer lugar"
   ]
  },
  {
   "cell_type": "markdown",
   "metadata": {},
   "source": [
    "### Representando como String"
   ]
  },
  {
   "cell_type": "markdown",
   "metadata": {},
   "source": [
    "Podemos definir um método chamado <b>toString</b> para que, quando chamarmos a função <i>print</i>, seja feita uma apresentação mais legível do objeto instanciado.\n",
    "\n",
    "Para implementar esse método em Scala, precisamos fazer uma <b>sobrescrita</b> (conceito que será abordado mais adiante), tendo de adicionar o modificador <b>override</b> antes do nome do método. "
   ]
  },
  {
   "cell_type": "code",
   "execution_count": 16,
   "metadata": {},
   "outputs": [
    {
     "name": "stdout",
     "output_type": "stream",
     "text": [
      "Nome: Mário, CPF: Não cadastrado"
     ]
    },
    {
     "data": {
      "text/plain": [
       "defined \u001b[32mclass\u001b[39m \u001b[36mPessoa\u001b[39m\n",
       "\u001b[36mmario\u001b[39m: \u001b[32mwrapper\u001b[39m.\u001b[32mwrapper\u001b[39m.\u001b[32mPessoa\u001b[39m = Nome: Mário, CPF: Não cadastrado"
      ]
     },
     "execution_count": 16,
     "metadata": {},
     "output_type": "execute_result"
    }
   ],
   "source": [
    "class Pessoa(nome: String, cpf: String) {\n",
    "    \n",
    "    def this(nome: String) = this(nome, \"Não cadastrado\")\n",
    "    \n",
    "    def getNome = nome\n",
    "    def getCPF = cpf\n",
    "\n",
    "    override def toString = \"Nome: \"+nome+\", CPF: \"+cpf\n",
    "    \n",
    "}\n",
    "\n",
    "val mario = new Pessoa(\"Mário\")\n",
    "print(mario)"
   ]
  },
  {
   "cell_type": "markdown",
   "metadata": {},
   "source": [
    "### Operadores"
   ]
  },
  {
   "cell_type": "markdown",
   "metadata": {},
   "source": [
    "Scala permite a definição de operações entre instâncias da classe e outros objetos. Isso ocorre pois, em Scala, todas as informações são objetos e suas operações são chamadas de métodos."
   ]
  },
  {
   "cell_type": "code",
   "execution_count": 17,
   "metadata": {},
   "outputs": [
    {
     "name": "stdout",
     "output_type": "stream",
     "text": [
      "20\n",
      "20\n"
     ]
    },
    {
     "data": {
      "text/plain": [
       "\u001b[36mx\u001b[39m: \u001b[32mInt\u001b[39m = \u001b[32m10\u001b[39m"
      ]
     },
     "execution_count": 17,
     "metadata": {},
     "output_type": "execute_result"
    }
   ],
   "source": [
    "val x = 10\n",
    "\n",
    "//podemos chamar um método como uma operação, usando uma notação mais limpa\n",
    "\n",
    "println(x+10)\n",
    "\n",
    "//e podemos chamar um método pela notação padrão, utilizando ponto + nome do método + argumentos\n",
    "\n",
    "println(x.+(10))"
   ]
  },
  {
   "cell_type": "markdown",
   "metadata": {},
   "source": [
    "Para exemplificar o uso de operadores, vamos definir uma classe que representa os números racionais em forma de fração:"
   ]
  },
  {
   "cell_type": "code",
   "execution_count": 18,
   "metadata": {},
   "outputs": [
    {
     "name": "stdout",
     "output_type": "stream",
     "text": [
      "1/2"
     ]
    },
    {
     "data": {
      "text/plain": [
       "defined \u001b[32mclass\u001b[39m \u001b[36mRacional\u001b[39m\n",
       "\u001b[36mmetade\u001b[39m: \u001b[32mRacional\u001b[39m = 1/2"
      ]
     },
     "execution_count": 18,
     "metadata": {},
     "output_type": "execute_result"
    }
   ],
   "source": [
    "class Racional(n:Int, d:Int){\n",
    "    \n",
    "    //declaramos essas variáveis para tornar essas informações como públicas\n",
    "    //utilizamos val para evitar sobrescrita\n",
    "    \n",
    "    val numerador = n\n",
    "    val denominador = d\n",
    "    \n",
    "    override def toString = numerador.toString+\"/\"+denominador.toString\n",
    "}\n",
    "\n",
    "val metade = new Racional(1,2)\n",
    "print(metade)"
   ]
  },
  {
   "cell_type": "markdown",
   "metadata": {},
   "source": [
    "Vamos definir os seguintes métodos para nossa classe: somar e subtrair:"
   ]
  },
  {
   "cell_type": "code",
   "execution_count": 19,
   "metadata": {},
   "outputs": [
    {
     "data": {
      "text/plain": [
       "defined \u001b[32mclass\u001b[39m \u001b[36mRacional\u001b[39m"
      ]
     },
     "execution_count": 19,
     "metadata": {},
     "output_type": "execute_result"
    }
   ],
   "source": [
    "class Racional(n: Int, d: Int){\n",
    "    //declaramos essas variáveis para tornar essas informações como públicas\n",
    "    //utilizamos val para evitar sobrescrita\n",
    "    \n",
    "    val numerador = n\n",
    "    val denominador = d\n",
    "    \n",
    "    def somar(b: Racional): Racional = \n",
    "    \n",
    "        new Racional(numerador*b.denominador + b.numerador*denominador, denominador*b.denominador)\n",
    "    \n",
    "    def subtrair(b: Racional): Racional = \n",
    "    \n",
    "        new Racional(numerador*b.denominador - b.numerador*denominador, denominador*b.denominador)\n",
    "    \n",
    "    override def toString: String = numerador.toString+\"/\"+denominador.toString\n",
    "}"
   ]
  },
  {
   "cell_type": "code",
   "execution_count": 20,
   "metadata": {},
   "outputs": [
    {
     "name": "stdout",
     "output_type": "stream",
     "text": [
      "soma:5/6\n",
      "subtracao:1/6\n"
     ]
    },
    {
     "data": {
      "text/plain": [
       "\u001b[36mmetade\u001b[39m: \u001b[32mRacional\u001b[39m = 1/2\n",
       "\u001b[36mterco\u001b[39m: \u001b[32mRacional\u001b[39m = 1/3"
      ]
     },
     "execution_count": 20,
     "metadata": {},
     "output_type": "execute_result"
    }
   ],
   "source": [
    "val metade = new Racional(1,2)\n",
    "val terco = new Racional(1,3)\n",
    "\n",
    "println(\"soma:\"+metade.somar(terco))\n",
    "println(\"subtracao:\"+metade.subtrair(terco))"
   ]
  },
  {
   "cell_type": "markdown",
   "metadata": {},
   "source": [
    "Podemos reescrever esses métodos com os seguintes operadores: + e -:"
   ]
  },
  {
   "cell_type": "code",
   "execution_count": 21,
   "metadata": {},
   "outputs": [
    {
     "data": {
      "text/plain": [
       "defined \u001b[32mclass\u001b[39m \u001b[36mRacional\u001b[39m"
      ]
     },
     "execution_count": 21,
     "metadata": {},
     "output_type": "execute_result"
    }
   ],
   "source": [
    "class Racional(n:Int, d:Int) {\n",
    "    //declaramos essas variáveis para tornar essas informações como públicas\n",
    "    //utilizamos val para evitar sobrescrita\n",
    "    \n",
    "    val numerador = n\n",
    "    val denominador = d\n",
    "    \n",
    "    def + (b:Racional): Racional = \n",
    "        new Racional(numerador*b.denominador + b.numerador*denominador,denominador*b.denominador)\n",
    "    \n",
    "    def - (b:Racional):Racional =\n",
    "        new Racional(numerador*b.denominador - b.numerador*denominador,denominador*b.denominador)\n",
    "    \n",
    "    override def toString: String = numerador.toString+\"/\"+denominador.toString\n",
    "}"
   ]
  },
  {
   "cell_type": "code",
   "execution_count": 22,
   "metadata": {},
   "outputs": [
    {
     "name": "stdout",
     "output_type": "stream",
     "text": [
      "soma: 5/6\n",
      "subtracao: 1/6\n"
     ]
    },
    {
     "data": {
      "text/plain": [
       "\u001b[36mmetade\u001b[39m: \u001b[32mRacional\u001b[39m = 1/2\n",
       "\u001b[36mterco\u001b[39m: \u001b[32mRacional\u001b[39m = 1/3"
      ]
     },
     "execution_count": 22,
     "metadata": {},
     "output_type": "execute_result"
    }
   ],
   "source": [
    "val metade = new Racional(1,2)\n",
    "val terco = new Racional(1,3)\n",
    "\n",
    "println(\"soma: \"+(metade + terco))\n",
    "println(\"subtracao: \"+(metade - terco))"
   ]
  },
  {
   "cell_type": "markdown",
   "metadata": {},
   "source": [
    "### Método apply"
   ]
  },
  {
   "cell_type": "markdown",
   "metadata": {},
   "source": [
    "Dentre os métodos de uma classe em Scala, existe o método <b>apply</b>. Quando acessamos a informação em um certo índice de um <i>Array</i>, é o equivalente a chamarmos o método <b>apply</b>:"
   ]
  },
  {
   "cell_type": "code",
   "execution_count": 23,
   "metadata": {},
   "outputs": [
    {
     "name": "stdout",
     "output_type": "stream",
     "text": [
      "2\n",
      "2\n"
     ]
    },
    {
     "data": {
      "text/plain": [
       "\u001b[36mx\u001b[39m: \u001b[32mArray\u001b[39m[\u001b[32mInt\u001b[39m] = \u001b[33mArray\u001b[39m(\u001b[32m1\u001b[39m, \u001b[32m2\u001b[39m, \u001b[32m3\u001b[39m)"
      ]
     },
     "execution_count": 23,
     "metadata": {},
     "output_type": "execute_result"
    }
   ],
   "source": [
    "val x = Array(1,2,3)\n",
    "\n",
    "println(x(1))\n",
    "println(x apply 1)"
   ]
  },
  {
   "cell_type": "markdown",
   "metadata": {},
   "source": [
    "### Método update"
   ]
  },
  {
   "cell_type": "markdown",
   "metadata": {},
   "source": [
    "O método <b>update</b> é similar ao <b>apply</b>: ele permite a alteração (ou atribuição). Quando um valor a um certo índice de um <i>Array</i>, é o equivalente a chamarmos o método <b>update</b>:"
   ]
  },
  {
   "cell_type": "code",
   "execution_count": 24,
   "metadata": {},
   "outputs": [
    {
     "name": "stdout",
     "output_type": "stream",
     "text": [
      "2\n"
     ]
    },
    {
     "data": {
      "text/plain": [
       "\u001b[36mx\u001b[39m: \u001b[32mArray\u001b[39m[\u001b[32mInt\u001b[39m] = \u001b[33mArray\u001b[39m(\u001b[32m1\u001b[39m, \u001b[32m2\u001b[39m, \u001b[32m3\u001b[39m)"
      ]
     },
     "execution_count": 24,
     "metadata": {},
     "output_type": "execute_result"
    }
   ],
   "source": [
    "val x = Array(1,2,3)\n",
    "println(x(1))"
   ]
  },
  {
   "cell_type": "code",
   "execution_count": 25,
   "metadata": {},
   "outputs": [
    {
     "name": "stdout",
     "output_type": "stream",
     "text": [
      "5\n"
     ]
    }
   ],
   "source": [
    "x(1) = 5\n",
    "println(x(1))"
   ]
  },
  {
   "cell_type": "code",
   "execution_count": 26,
   "metadata": {},
   "outputs": [
    {
     "name": "stdout",
     "output_type": "stream",
     "text": [
      "10\n"
     ]
    }
   ],
   "source": [
    "x update (1,10)\n",
    "println(x(1))"
   ]
  },
  {
   "cell_type": "markdown",
   "metadata": {},
   "source": [
    "## Herança"
   ]
  },
  {
   "cell_type": "markdown",
   "metadata": {},
   "source": [
    "Existem cenários em que precisamos criar novas classes e objetos que são semelhantes a outros já definidos, porém, com algumas informações e comportamentos a mais. Para isso, podemos utilizar <i>herança</i>."
   ]
  },
  {
   "cell_type": "markdown",
   "metadata": {},
   "source": [
    "Quando uma classe <b>B</b> herda de uma classe <b>A</b>, todos os atributos e métodos pertencentes a <b>A</b> também pertencem a <b>B</b>."
   ]
  },
  {
   "cell_type": "markdown",
   "metadata": {},
   "source": [
    "Herança em Scala funciona de uma maneira análoga ao Java. Para exemplificar, traremos de volta uma versão mais simples da classe Pessoa que definimos anteriormente:"
   ]
  },
  {
   "cell_type": "code",
   "execution_count": 27,
   "metadata": {},
   "outputs": [
    {
     "data": {
      "text/plain": [
       "defined \u001b[32mclass\u001b[39m \u001b[36mPessoa\u001b[39m"
      ]
     },
     "execution_count": 27,
     "metadata": {},
     "output_type": "execute_result"
    }
   ],
   "source": [
    "class Pessoa {\n",
    "    var nome: String = null\n",
    "    var cpf: String = null\n",
    "}"
   ]
  },
  {
   "cell_type": "markdown",
   "metadata": {},
   "source": [
    "Como sabemos, um aluno de faculdade é uma pessoa, porém, além de nome de cpf, ele possui <i>matrícula</i>. Portanto, em Orientação à Objetos, podemos dizer que uma classe Aluno <i>herda</i> da classe Pessoa e tem um atributo representando sua matrícula."
   ]
  },
  {
   "cell_type": "markdown",
   "metadata": {},
   "source": [
    "Para implementar herança em Scala, utilizamos a palavra <b>extends</b>:"
   ]
  },
  {
   "cell_type": "code",
   "execution_count": 28,
   "metadata": {},
   "outputs": [
    {
     "data": {
      "text/plain": [
       "defined \u001b[32mclass\u001b[39m \u001b[36mAluno\u001b[39m\n",
       "\u001b[36mcarlos\u001b[39m: \u001b[32mAluno\u001b[39m = $sess.cmd27Wrapper$Helper$Aluno@5c7d705f"
      ]
     },
     "execution_count": 28,
     "metadata": {},
     "output_type": "execute_result"
    }
   ],
   "source": [
    "class Aluno extends Pessoa{ //todos os atributos e métodos da classe Pessoa estão presentes em Aluno\n",
    "    \n",
    "    var matricula: Int = 0\n",
    "}\n",
    "\n",
    "val carlos = new Aluno\n",
    "\n",
    "carlos.nome = \"Carlos\"\n",
    "carlos.cpf = \"060.000.000-40\"\n",
    "carlos.matricula = 1234"
   ]
  },
  {
   "cell_type": "code",
   "execution_count": 29,
   "metadata": {},
   "outputs": [
    {
     "name": "stdout",
     "output_type": "stream",
     "text": [
      "Carlos\n",
      "060.000.000-40\n",
      "1234\n"
     ]
    }
   ],
   "source": [
    "println(carlos.nome)\n",
    "println(carlos.cpf)\n",
    "println(carlos.matricula)"
   ]
  },
  {
   "cell_type": "markdown",
   "metadata": {},
   "source": [
    "Se quisermos definir um construtor principal para aluno, precisamos também utilizar um dos construtores da <i>superclasse</i> de quem ele herda. Para definir um construtor para aluno, informando nome, CPF e matrícula, precisamos definir a classe da seguinte maneira:"
   ]
  },
  {
   "cell_type": "code",
   "execution_count": 33,
   "metadata": {},
   "outputs": [
    {
     "data": {
      "text/plain": [
       "defined \u001b[32mclass\u001b[39m \u001b[36mPessoa\u001b[39m\n",
       "defined \u001b[32mclass\u001b[39m \u001b[36mAluno\u001b[39m"
      ]
     },
     "execution_count": 33,
     "metadata": {},
     "output_type": "execute_result"
    }
   ],
   "source": [
    "class Pessoa(nome: String,cpf: String){\n",
    "    def getNome = nome\n",
    "    def getCPF = cpf\n",
    "    \n",
    "    override def toString = \"Nome: \"+nome+\", CPF: \"+cpf\n",
    "}\n",
    "\n",
    "class Aluno(nome: String,cpf:String,matricula: Int) extends Pessoa(nome,cpf){\n",
    "    def getMatricula = matricula\n",
    "}"
   ]
  },
  {
   "cell_type": "code",
   "execution_count": 34,
   "metadata": {},
   "outputs": [
    {
     "name": "stdout",
     "output_type": "stream",
     "text": [
      "Nome: Carlos, CPF: 060.000.000-40"
     ]
    },
    {
     "data": {
      "text/plain": [
       "\u001b[36mcarlos\u001b[39m: \u001b[32mAluno\u001b[39m = Nome: Carlos, CPF: 060.000.000-40"
      ]
     },
     "execution_count": 34,
     "metadata": {},
     "output_type": "execute_result"
    }
   ],
   "source": [
    "val carlos = new Aluno(\"Carlos\",\"060.000.000-40\",1234)\n",
    "print(carlos)"
   ]
  },
  {
   "cell_type": "markdown",
   "metadata": {},
   "source": [
    "Quando trabalhamos com herança, podemos realizar a <b>sobrescrita</b> dos métodos herdados. No exemplo acima, o Aluno está sendo mostrado como apenas uma pessoa, sem informar sua matrícula. Para corrigir isso, podemos <b>sobrescrever</b> o método toString para apresentar também a matrícula: "
   ]
  },
  {
   "cell_type": "code",
   "execution_count": 36,
   "metadata": {},
   "outputs": [
    {
     "name": "stdout",
     "output_type": "stream",
     "text": [
      "Nome: Carlos, CPF: 060.000.000-40, Matricula: 1234\n"
     ]
    },
    {
     "data": {
      "text/plain": [
       "defined \u001b[32mclass\u001b[39m \u001b[36mAluno\u001b[39m\n",
       "\u001b[36mcarlos\u001b[39m: \u001b[32mwrapper\u001b[39m.\u001b[32mwrapper\u001b[39m.\u001b[32mAluno\u001b[39m = Nome: Carlos, CPF: 060.000.000-40, Matricula: 1234"
      ]
     },
     "execution_count": 36,
     "metadata": {},
     "output_type": "execute_result"
    }
   ],
   "source": [
    "class Aluno(nome: String, cpf: String, matricula: Int) extends Pessoa(nome,cpf){\n",
    "    def getMatricula = matricula\n",
    "    override def toString = \"Nome: \"+nome+\", CPF: \"+cpf+\", Matricula: \"+matricula\n",
    "    \n",
    "}\n",
    "\n",
    "val carlos = new Aluno(\"Carlos\",\"060.000.000-40\",1234)\n",
    "println(carlos)"
   ]
  },
  {
   "cell_type": "markdown",
   "metadata": {},
   "source": [
    "## Exercícios"
   ]
  },
  {
   "cell_type": "markdown",
   "metadata": {},
   "source": [
    "<b>1. Escreva uma classe que represente uma matriz m x n que tenha os seguintes métodos:</b>\n"
   ]
  },
  {
   "cell_type": "markdown",
   "metadata": {},
   "source": [
    "* Criar uma matriz informando suas dimensões (m x n);\n",
    "* Acessar o elemento da matriz dada uma coordenada;\n",
    "* Alterar o elemento da matriz dada uma coordenada;\n",
    "* Imprimir a matriz na tela."
   ]
  },
  {
   "cell_type": "code",
   "execution_count": 42,
   "metadata": {},
   "outputs": [
    {
     "name": "stdout",
     "output_type": "stream",
     "text": [
      "\n",
      "1 1 \n",
      "1 1 "
     ]
    },
    {
     "data": {
      "text/plain": [
       "defined \u001b[32mclass\u001b[39m \u001b[36mMatrix\u001b[39m\n",
       "\u001b[36mMatriz\u001b[39m: \u001b[32mwrapper\u001b[39m.\u001b[32mwrapper\u001b[39m.\u001b[32mMatrix\u001b[39m = $sess.cmd41Wrapper$Helper$Matrix@df5503\n",
       "\u001b[36mres41_2\u001b[39m: \u001b[32mInt\u001b[39m = \u001b[32m1\u001b[39m\n",
       "\u001b[36mres41_3\u001b[39m: \u001b[32mInt\u001b[39m = \u001b[32m1\u001b[39m\n",
       "\u001b[36mres41_4\u001b[39m: \u001b[32mInt\u001b[39m = \u001b[32m1\u001b[39m\n",
       "\u001b[36mres41_5\u001b[39m: \u001b[32mInt\u001b[39m = \u001b[32m1\u001b[39m"
      ]
     },
     "execution_count": 42,
     "metadata": {},
     "output_type": "execute_result"
    }
   ],
   "source": [
    "class Matrix(m: Int, n: Int){\n",
    "    val linha = m\n",
    "    val coluna = n\n",
    "    \n",
    "    val Matriz = Array.ofDim[Int](linha,coluna)\n",
    "    \n",
    "    def Elemento(Linha:Int, Coluna:Int) = Matriz(Linha)(Coluna)\n",
    "    \n",
    "    def Alterar(valor: Int,Linha:Int, Coluna:Int): Int = {\n",
    "        \n",
    "        Matriz(Linha)(Coluna) = valor\n",
    "        return Matriz(Linha)(Coluna)\n",
    "    }\n",
    "    \n",
    "    def Ler:Unit = {\n",
    "        for(i<-0 to linha-1){\n",
    "            \n",
    "            print('\\n')\n",
    "            for(j<-0 to coluna-1) \n",
    "                \n",
    "                print(Matriz(i)(j)+\" \")\n",
    "            \n",
    "        }\n",
    "        \n",
    "    }\n",
    "}\n",
    "\n",
    "var Matriz = new Matrix(2,2)\n",
    "\n",
    "Matriz.Alterar(1,0,0)\n",
    "Matriz.Alterar(1,1,0)\n",
    "Matriz.Alterar(1,0,1)\n",
    "Matriz.Alterar(1,1,1)\n",
    "Matriz.Ler"
   ]
  },
  {
   "cell_type": "code",
   "execution_count": 58,
   "metadata": {},
   "outputs": [
    {
     "name": "stdout",
     "output_type": "stream",
     "text": [
      "A operação é possível.\n",
      "\n",
      "Adição:\n",
      "4 4 \n",
      "4 4 \n",
      "Subtração:\n",
      "-2 -2 \n",
      "-2 -2 \n",
      "Multiplicação:\n",
      "3 3 \n",
      "3 3 \n"
     ]
    },
    {
     "data": {
      "text/plain": [
       "defined \u001b[32mclass\u001b[39m \u001b[36mOperacoes\u001b[39m\n",
       "\u001b[36mmatriz\u001b[39m: \u001b[32mwrapper\u001b[39m.\u001b[32mwrapper\u001b[39m.\u001b[32mOperacoes\u001b[39m = $sess.cmd57Wrapper$Helper$Operacoes@2624b44a"
      ]
     },
     "execution_count": 58,
     "metadata": {},
     "output_type": "execute_result"
    }
   ],
   "source": [
    "class Operacoes(m1:Int, n1:Int, m2:Int, n2:Int){\n",
    "     \n",
    "    val linhas1 = m1\n",
    "    val colunas1 = n1\n",
    "    val linhas2 = m2\n",
    "    val colunas2 = n2\n",
    "    \n",
    "   \n",
    "    val Matriz1 = Array.ofDim[Int](linhas2,colunas1)\n",
    "    val Soma = Array.ofDim[Int](linhas2,colunas1)\n",
    "    val Matriz2 = Array.ofDim[Int](linhas2,colunas1)\n",
    "    val Sub = Array.ofDim[Int](linhas2,colunas1)\n",
    "    val Mult = Array.ofDim[Int](linhas2,colunas1)\n",
    "    \n",
    "     for(i<-0 to linhas2-1)\n",
    "    {\n",
    "        for(j<-0 to linhas2 - 1)\n",
    "        {\n",
    "            Matriz1(i)(j) = 1\n",
    "        }\n",
    "    }\n",
    "    \n",
    "    for(i<-0 to linhas2-1){\n",
    "        for(j<-0 to linhas2-1)\n",
    "        {\n",
    "            Matriz2(i)(j) = 3\n",
    "        }\n",
    "    }\n",
    "    \n",
    "    \n",
    "    def Possivel:Unit = {\n",
    "        if(colunas1 == linhas2){\n",
    "            println(\"A operação é possível.\")\n",
    "            print('\\n')\n",
    "        }\n",
    "        else{\n",
    "            println(\"A operação não é possível. Utilize outras dimensões.\")\n",
    "            print('\\n')\n",
    "        }\n",
    "    }\n",
    "    \n",
    "    def Somar: Unit = {\n",
    "        print(\"Adição:\")\n",
    "        for(i<-0 to linhas2-1){\n",
    "            print('\\n')\n",
    "            for(j<-0 to linhas2-1){\n",
    "                \n",
    "                Soma(i)(j) = Matriz1(i)(j) + Matriz2(j)(i) \n",
    "                print(Soma(i)(j)+\" \")\n",
    "                \n",
    "            }\n",
    "        }\n",
    "     print('\\n')   \n",
    "    }\n",
    "    \n",
    "    def Subtrair: Unit = {\n",
    "        print(\"Subtração:\")\n",
    "        for(i<-0 to linhas2-1){\n",
    "            print('\\n')\n",
    "            for(j<-0 to linhas2-1){\n",
    "                \n",
    "                Sub(i)(j) = Matriz1(i)(j) - Matriz2(j)(i)\n",
    "                print(Sub(i)(j)+\" \")\n",
    "            }\n",
    "        }\n",
    "        print('\\n')\n",
    "    }\n",
    "    \n",
    "    def Multiplicar: Unit = {\n",
    "        print(\"Multiplicação:\")\n",
    "        for(i<-0 to linhas2-1){\n",
    "            print('\\n')\n",
    "            for(j<-0 to linhas2-1){\n",
    "                \n",
    "                Mult(i)(j) = Matriz1(i)(j)*Matriz2(j)(i)\n",
    "                print(Mult(i)(j)+\" \")\n",
    "            }\n",
    "        }\n",
    "        print('\\n')\n",
    "    }\n",
    "}\n",
    "\n",
    "val matriz = new Operacoes(3,2,2,3)\n",
    "\n",
    "matriz.Possivel\n",
    "matriz.Somar\n",
    "matriz.Subtrair\n",
    "matriz.Multiplicar"
   ]
  },
  {
   "cell_type": "markdown",
   "metadata": {},
   "source": [
    "<b>3. Crie um Object para gerar matrizes preenchidas automaticamente com algum valor ou padrão.</b>"
   ]
  },
  {
   "cell_type": "code",
   "execution_count": 74,
   "metadata": {},
   "outputs": [
    {
     "name": "stdout",
     "output_type": "stream",
     "text": [
      "\n",
      "1 0 0 0 0 \n",
      "0 1 0 0 0 \n",
      "0 0 1 0 0 \n",
      "0 0 0 1 0 \n",
      "0 0 0 0 1 "
     ]
    },
    {
     "data": {
      "text/plain": [
       "defined \u001b[32mobject\u001b[39m \u001b[36mMatrix\u001b[39m"
      ]
     },
     "execution_count": 74,
     "metadata": {},
     "output_type": "execute_result"
    }
   ],
   "source": [
    "object Matrix{\n",
    "    \n",
    "    \n",
    "    var linhas = 5\n",
    "    var colunas = 5\n",
    "    var Matriz = Array.ofDim[Int](linhas,colunas)\n",
    "    \n",
    "    \n",
    "    def Matrizes:Unit = {\n",
    "        for(i<-0 to linhas-1){\n",
    "            for(j<-0 to colunas-1){\n",
    "                if(i==j) {\n",
    "                    Matriz(i)(j) = 1\n",
    "                }\n",
    "                else{\n",
    "                    Matriz(i)(j) = 0\n",
    "                }\n",
    "            }\n",
    "        } \n",
    "\n",
    "        for(i<-0 to linhas-1){\n",
    "            print('\\n')\n",
    "            for(j<-0 to colunas-1){\n",
    "                print(Matriz(i)(j)+\" \")\n",
    "            }\n",
    "        } \n",
    "    }\n",
    "    \n",
    "}\n",
    "\n",
    "Matrix.Matrizes"
   ]
  },
  {
   "cell_type": "code",
   "execution_count": null,
   "metadata": {},
   "outputs": [],
   "source": []
  },
  {
   "cell_type": "code",
   "execution_count": null,
   "metadata": {},
   "outputs": [],
   "source": []
  }
 ],
 "metadata": {
  "kernelspec": {
   "display_name": "Scala",
   "language": "scala",
   "name": "scala"
  },
  "language_info": {
   "codemirror_mode": "text/x-scala",
   "file_extension": ".scala",
   "mimetype": "text/x-scala",
   "name": "scala211",
   "nbconvert_exporter": "script",
   "pygments_lexer": "scala",
   "version": "2.11.11"
  }
 },
 "nbformat": 4,
 "nbformat_minor": 2
}
